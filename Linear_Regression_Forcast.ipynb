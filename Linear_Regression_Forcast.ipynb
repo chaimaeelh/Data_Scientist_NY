{
  "nbformat": 4,
  "nbformat_minor": 0,
  "metadata": {
    "colab": {
      "provenance": [],
      "authorship_tag": "ABX9TyOAk4Hwr8inLGTjO6kZf5sw",
      "include_colab_link": true
    },
    "kernelspec": {
      "name": "python3",
      "display_name": "Python 3"
    },
    "language_info": {
      "name": "python"
    }
  },
  "cells": [
    {
      "cell_type": "markdown",
      "metadata": {
        "id": "view-in-github",
        "colab_type": "text"
      },
      "source": [
        "<a href=\"https://colab.research.google.com/github/chaimaeelh/Data_Scientist_NY/blob/main/Linear_Regression_Forcast.ipynb\" target=\"_parent\"><img src=\"https://colab.research.google.com/assets/colab-badge.svg\" alt=\"Open In Colab\"/></a>"
      ]
    },
    {
      "cell_type": "markdown",
      "source": [
        "Train and Evaluate Linear Regression Model"
      ],
      "metadata": {
        "id": "g71WOKcOau3P"
      }
    },
    {
      "cell_type": "code",
      "source": [
        "import pandas as pd\n",
        "import numpy as np\n",
        "from sklearn.linear_model import LinearRegression\n",
        "from sklearn.preprocessing import MinMaxScaler\n",
        "from sklearn.metrics import mean_absolute_error, mean_squared_error, r2_score\n",
        "import joblib\n",
        "\n",
        "def preprocess_data(data):\n",
        "    data_Hoodie = data[['date', 'Hoodie']]\n",
        "    data_Hoodie[\"sales_diff\"] = data_Hoodie['Hoodie'].diff()\n",
        "    data_Hoodie = data_Hoodie.dropna()\n",
        "\n",
        "    for i in range(1, 13):\n",
        "        col_name = 'sales_diff_week' + str(i)\n",
        "        data_Hoodie[col_name] = data_Hoodie['sales_diff'].shift(i)\n",
        "\n",
        "    supervised_data = data_Hoodie.dropna().reset_index(drop=True)\n",
        "    supervised_data_test = supervised_data\n",
        "    supervised_data = supervised_data.drop(columns=['date', 'Hoodie'])\n",
        "\n",
        "    return supervised_data, supervised_data_test\n",
        "\n",
        "def scale_data(train_data, test_data):\n",
        "    # Extract features and target variable for training data\n",
        "    x_train, y_train = train_data.iloc[:, 1:], train_data.iloc[:, 0]\n",
        "\n",
        "    # Extract features and target variable for test data\n",
        "    x_test, y_test = test_data.iloc[:, 1:], test_data.iloc[:, 0]\n",
        "\n",
        "    # Apply MinMaxScaler to the features\n",
        "    scaler = MinMaxScaler(feature_range=(-1, 1))\n",
        "    x_train= pd.DataFrame(scaler.fit_transform(x_train), columns=x_train.columns)\n",
        "    x_test = pd.DataFrame(scaler.transform(x_test), columns=x_train.columns)\n",
        "\n",
        "    return x_train, y_train.values.ravel(), x_test, y_test.values.ravel(), scaler\n",
        "\n",
        "def train_linear_regression(x_train, y_train):\n",
        "    lr_model = LinearRegression()\n",
        "    lr_model.fit(x_train, y_train)\n",
        "    return lr_model\n",
        "\n",
        "def make_predictions(lr_model, x_test, scaler, act_sales):\n",
        "    lr_pr = lr_model.predict(x_test)\n",
        "    lr_pr = lr_pr.reshape(-1, 1)\n",
        "\n",
        "    lr_pre_test_set = np.concatenate([lr_pr, x_test], axis=1)\n",
        "    #lr_pre_test_set = scaler.inverse_transform(lr_pre_test_set)\n",
        "\n",
        "    result_array = lr_pre_test_set[:, 0] + act_sales\n",
        "    lr_pre_series = pd.Series(result_array, name=\"Linear Prediction\")\n",
        "\n",
        "    return lr_pre_series\n",
        "\n",
        "def evaluate_model(predictions, actual_values):\n",
        "    mse = np.sqrt(mean_squared_error(predictions, actual_values))\n",
        "    mae = mean_absolute_error(predictions, actual_values)\n",
        "    r2 = r2_score(predictions, actual_values)\n",
        "\n",
        "    print(\"Linear Regression MSE:\", mse)\n",
        "    print(\"Linear Regression MAE:\", mae)\n",
        "    print(\"Linear Regression R^2:\", r2)\n",
        "\n",
        "def save_model(model, filename):\n",
        "    joblib.dump(model, filename)\n",
        "    print(f\"Model saved to {filename}\")\n",
        "\n",
        "# Load data\n",
        "csv_path = \"/content/sales.csv\"\n",
        "data = pd.read_csv(csv_path, sep=\",\")\n",
        "\n",
        "# Preprocess data\n",
        "supervised_data, supervised_data_test = preprocess_data(data)\n",
        "\n",
        "# Split data into train and test sets\n",
        "train_data = supervised_data[:70]\n",
        "test_data = supervised_data[70:]\n",
        "\n",
        "# Scale data\n",
        "x_train, y_train, x_test, y_test, scaler = scale_data(train_data, test_data)\n",
        "\n",
        "# Extract actual sales for evaluation\n",
        "act_sales = supervised_data_test['Hoodie'][70:].to_list()\n",
        "\n",
        "# Train linear regression model\n",
        "lr_model = train_linear_regression(x_train, y_train)\n",
        "\n",
        "# Make predictions\n",
        "lr_pre_series = make_predictions(lr_model, x_test, scaler, act_sales)\n",
        "\n",
        "# Evaluate model\n",
        "evaluate_model(lr_pre_series, supervised_data_test['Hoodie'][70:])\n",
        "# Save model\n",
        "joblib.dump(lr_model, 'linear_regression_model.joblib')\n"
      ],
      "metadata": {
        "colab": {
          "base_uri": "https://localhost:8080/"
        },
        "id": "3_kSNRi9DQhZ",
        "outputId": "0d98a173-31cb-42e6-90dd-fa326f7d6b86"
      },
      "execution_count": 43,
      "outputs": [
        {
          "output_type": "stream",
          "name": "stdout",
          "text": [
            "Linear Regression MSE: 984.0150697182573\n",
            "Linear Regression MAE: 580.4605636668762\n",
            "Linear Regression R^2: 0.7415122753525625\n"
          ]
        },
        {
          "output_type": "stream",
          "name": "stderr",
          "text": [
            "<ipython-input-43-98d42aa6deca>:10: SettingWithCopyWarning: \n",
            "A value is trying to be set on a copy of a slice from a DataFrame.\n",
            "Try using .loc[row_indexer,col_indexer] = value instead\n",
            "\n",
            "See the caveats in the documentation: https://pandas.pydata.org/pandas-docs/stable/user_guide/indexing.html#returning-a-view-versus-a-copy\n",
            "  data_Hoodie[\"sales_diff\"] = data_Hoodie['Hoodie'].diff()\n"
          ]
        }
      ]
    },
    {
      "cell_type": "markdown",
      "source": [
        "Forcasting about sales in the next 5 weeks"
      ],
      "metadata": {
        "id": "ovAdqx3uZQnm"
      }
    },
    {
      "cell_type": "code",
      "source": [
        "loaded_model = joblib.load('linear_regressionMmodel.joblib')\n"
      ],
      "metadata": {
        "id": "XRt1hb3Q-SL9"
      },
      "execution_count": 50,
      "outputs": []
    },
    {
      "cell_type": "code",
      "source": [
        "\n",
        "# Get the last row from the entire dataset\n",
        "last_observation = supervised_data.iloc[-1, 1:].values.reshape(1, -1)\n",
        "last_observation = scaler.transform(last_observation)\n",
        "#last_observation = supervised_data.tail(5)\n",
        "\n",
        "# Extract features for the last 5 rows\n",
        "#last_observation = last_observation.iloc[:, 1:]\n",
        "\n",
        "# Scale the features using the same MinMaxScaler used for training\n",
        "\n",
        "#last_observation = pd.DataFrame(scaler.transform(last_observation), columns=last_observation.columns)\n",
        "\n",
        "# Predict the next 5 weeks\n",
        "predictions = []\n",
        "for _ in range(5):\n",
        "    # Predict the next week's sales\n",
        "    next_week_pred = loaded_model.predict(last_observation)\n",
        "\n",
        "    # Update the input features for the next prediction\n",
        "    last_observation = np.roll(last_observation, shift=-1)\n",
        "    last_observation[0, -1] = next_week_pred[0]\n",
        "\n",
        "    # Append the predicted value to the result list\n",
        "    predictions.append(next_week_pred[0])\n",
        "\n",
        "# Create a DataFrame to store the predictions\n",
        "prediction_dates = pd.date_range(start='2020-09-11', periods=5, freq='W')\n",
        "prediction_df = pd.DataFrame({'date': prediction_dates, 'sales_diff_prediction': predictions})\n",
        "\n",
        "# Display the predictions\n",
        "print(prediction_df.tail())\n"
      ],
      "metadata": {
        "colab": {
          "base_uri": "https://localhost:8080/"
        },
        "id": "twiOmB0iCYnR",
        "outputId": "41ea09c0-1f03-44da-c4c2-7879d5df4414"
      },
      "execution_count": 51,
      "outputs": [
        {
          "output_type": "stream",
          "name": "stdout",
          "text": [
            "        date  sales_diff_prediction\n",
            "0 2020-09-13          -1.326205e+03\n",
            "1 2020-09-20          -5.777632e+04\n",
            "2 2020-09-27          -2.934244e+06\n",
            "3 2020-10-04          -1.452466e+08\n",
            "4 2020-10-11          -7.220039e+09\n"
          ]
        },
        {
          "output_type": "stream",
          "name": "stderr",
          "text": [
            "/usr/local/lib/python3.10/dist-packages/sklearn/base.py:439: UserWarning: X does not have valid feature names, but MinMaxScaler was fitted with feature names\n",
            "  warnings.warn(\n",
            "/usr/local/lib/python3.10/dist-packages/sklearn/base.py:439: UserWarning: X does not have valid feature names, but LinearRegression was fitted with feature names\n",
            "  warnings.warn(\n",
            "/usr/local/lib/python3.10/dist-packages/sklearn/base.py:439: UserWarning: X does not have valid feature names, but LinearRegression was fitted with feature names\n",
            "  warnings.warn(\n",
            "/usr/local/lib/python3.10/dist-packages/sklearn/base.py:439: UserWarning: X does not have valid feature names, but LinearRegression was fitted with feature names\n",
            "  warnings.warn(\n",
            "/usr/local/lib/python3.10/dist-packages/sklearn/base.py:439: UserWarning: X does not have valid feature names, but LinearRegression was fitted with feature names\n",
            "  warnings.warn(\n",
            "/usr/local/lib/python3.10/dist-packages/sklearn/base.py:439: UserWarning: X does not have valid feature names, but LinearRegression was fitted with feature names\n",
            "  warnings.warn(\n"
          ]
        }
      ]
    }
  ]
}