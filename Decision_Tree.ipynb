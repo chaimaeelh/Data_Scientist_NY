{
  "nbformat": 4,
  "nbformat_minor": 0,
  "metadata": {
    "colab": {
      "provenance": [],
      "authorship_tag": "ABX9TyPXkT0XAmlUmrg1bHuYQcbC",
      "include_colab_link": true
    },
    "kernelspec": {
      "name": "python3",
      "display_name": "Python 3"
    },
    "language_info": {
      "name": "python"
    }
  },
  "cells": [
    {
      "cell_type": "markdown",
      "metadata": {
        "id": "view-in-github",
        "colab_type": "text"
      },
      "source": [
        "<a href=\"https://colab.research.google.com/github/chaimaeelh/Data_Scientist_NY/blob/main/Decision_Tree.ipynb\" target=\"_parent\"><img src=\"https://colab.research.google.com/assets/colab-badge.svg\" alt=\"Open In Colab\"/></a>"
      ]
    },
    {
      "cell_type": "markdown",
      "source": [
        "Time series with Decision Tree"
      ],
      "metadata": {
        "id": "Rjw8Weq0H5cK"
      }
    },
    {
      "cell_type": "code",
      "execution_count": 2,
      "metadata": {
        "colab": {
          "base_uri": "https://localhost:8080/"
        },
        "id": "22oau9tPR873",
        "outputId": "768ea096-5122-43eb-8bb3-f0cfe60087da"
      },
      "outputs": [
        {
          "output_type": "stream",
          "name": "stdout",
          "text": [
            "Linear Regression MSE: 671.8901581474346\n",
            "Linear Regression MAE: 573.1538461538462\n",
            "Linear Regression R^2: 0.9531374717308561\n"
          ]
        },
        {
          "output_type": "stream",
          "name": "stderr",
          "text": [
            "<ipython-input-2-59a0b146d23a>:11: SettingWithCopyWarning: \n",
            "A value is trying to be set on a copy of a slice from a DataFrame.\n",
            "Try using .loc[row_indexer,col_indexer] = value instead\n",
            "\n",
            "See the caveats in the documentation: https://pandas.pydata.org/pandas-docs/stable/user_guide/indexing.html#returning-a-view-versus-a-copy\n",
            "  data_Hoodie[\"sales_diff\"] = data_Hoodie['Hoodie'].diff()\n"
          ]
        }
      ],
      "source": [
        "# import necessary libraries\n",
        "\n",
        "import pandas as pd\n",
        "import numpy as np\n",
        "from sklearn.linear_model import LinearRegression\n",
        "from sklearn.preprocessing import MinMaxScaler\n",
        "from sklearn.metrics import mean_absolute_error, mean_squared_error, r2_score\n",
        "import joblib\n",
        "from sklearn.tree import DecisionTreeRegressor\n",
        "# Function to preprocess the data (to transform time series problem to a regression problem )\n",
        "def preprocess_data(data):\n",
        "    data_Hoodie = data[['date', 'Hoodie']]\n",
        "    # Create a sale diff column to see the sale difference between each week\n",
        "    data_Hoodie[\"sales_diff\"] = data_Hoodie['Hoodie'].diff()\n",
        "    data_Hoodie = data_Hoodie.dropna()\n",
        "    # Create lag features (they are the 20 previous record of each point starting with Index=21)\n",
        "    for i in range(1, 20):\n",
        "        col_name = 'sales_diff_week' + str(i)\n",
        "        data_Hoodie[col_name] = data_Hoodie['sales_diff'].shift(i)\n",
        "    # Create a copy for testing purposes\n",
        "    supervised_data = data_Hoodie.dropna().reset_index(drop=True)\n",
        "    supervised_data_test = supervised_data\n",
        "    supervised_data = supervised_data.drop(columns=['date', 'Hoodie'])\n",
        "\n",
        "    return supervised_data, supervised_data_test\n",
        "\n",
        "\n",
        "def train_decision_tree(x_train, y_train):\n",
        "    lr_model = DecisionTreeRegressor()\n",
        "    lr_model.fit(x_train, y_train)\n",
        "    return lr_model\n",
        "\n",
        "def make_predictions(lr_model, x_test, act_sales):\n",
        "    lr_pr = lr_model.predict(x_test)\n",
        "    lr_pr = lr_pr.reshape(-1, 1)\n",
        "\n",
        "    lr_pre_test_set = np.concatenate([lr_pr, x_test], axis=1)\n",
        "\n",
        "\n",
        "    result_array = lr_pre_test_set[:, 0] + act_sales\n",
        "    lr_pre_series = pd.Series(result_array, name=\"Linear Prediction\")\n",
        "\n",
        "    return lr_pre_series\n",
        "\n",
        "def evaluate_model(predictions, actual_values):\n",
        "    mse = np.sqrt(mean_squared_error(predictions, actual_values))\n",
        "    mae = mean_absolute_error(predictions, actual_values)\n",
        "    r2 = r2_score(predictions, actual_values)\n",
        "\n",
        "    print(\"Linear Regression MSE:\", mse)\n",
        "    print(\"Linear Regression MAE:\", mae)\n",
        "    print(\"Linear Regression R^2:\", r2)\n",
        "\n",
        "def save_model(model, filename):\n",
        "    joblib.dump(model, filename)\n",
        "    print(f\"Model saved to {filename}\")\n",
        "\n",
        "# Load data\n",
        "csv_path = \"/content/sales.csv\"\n",
        "data = pd.read_csv(csv_path, sep=\",\")\n",
        "\n",
        "# Preprocess data\n",
        "supervised_data, supervised_data_test = preprocess_data(data)\n",
        "\n",
        "# Split data into train and test sets\n",
        "train_data = supervised_data[:70]\n",
        "test_data = supervised_data[70:]\n",
        "\n",
        "    # Extract features and target variable for training data\n",
        "x_train, y_train = train_data.iloc[:, 1:], train_data.iloc[:, 0]\n",
        "\n",
        "    # Extract features and target variable for test data\n",
        "x_test, y_test = test_data.iloc[:, 1:], test_data.iloc[:, 0]\n",
        "\n",
        "# Extract actual sales for evaluation\n",
        "act_sales = supervised_data_test['Hoodie'][70:].to_list()\n",
        "\n",
        "# Train linear regression model\n",
        "lr_model =  train_decision_tree(x_train, y_train)\n",
        "\n",
        "# Make predictions\n",
        "lr_pre_series = make_predictions(lr_model, x_test, act_sales)\n",
        "\n",
        "# Evaluate model\n",
        "evaluate_model(lr_pre_series, supervised_data_test['Hoodie'][70:])\n",
        "# Save model\n",
        "\n"
      ]
    },
    {
      "cell_type": "code",
      "source": [
        "joblib.dump(lr_model, 'logistic_regression_model.joblib')"
      ],
      "metadata": {
        "colab": {
          "base_uri": "https://localhost:8080/"
        },
        "id": "CeTsRcJOX4W2",
        "outputId": "ec8b52b2-87fd-420f-c323-0d5e9bbe7c5b"
      },
      "execution_count": 3,
      "outputs": [
        {
          "output_type": "execute_result",
          "data": {
            "text/plain": [
              "['logistic_regression_model.joblib']"
            ]
          },
          "metadata": {},
          "execution_count": 3
        }
      ]
    },
    {
      "cell_type": "markdown",
      "source": [
        "Forcast for the next 5 sales"
      ],
      "metadata": {
        "id": "QaUdqciTCFkC"
      }
    },
    {
      "cell_type": "code",
      "source": [
        "# Extract the last line of data as input of my model\n",
        "future_weeks_data = supervised_data_test.iloc[-1, 3:].values.reshape(1, -1)\n"
      ],
      "metadata": {
        "id": "YUY7rKT2Ue2t"
      },
      "execution_count": 4,
      "outputs": []
    },
    {
      "cell_type": "code",
      "source": [
        "predictions = []\n",
        "current_sales = supervised_data_test['Hoodie'].values[-1]\n",
        "for _ in range(5):\n",
        "    # Predict the next week's sales  NB: By reshaping future_weeks_data , we convert it into a 2D array with one row and x columns.\n",
        "    next_week_pred = lr_model.predict(future_weeks_data.reshape(1, -1))\n",
        "\n",
        "    # Update the input features for the next prediction\n",
        "    future_weeks_data[0, :-1] = np.roll(future_weeks_data[0, :-1], shift=-1)\n",
        "    future_weeks_data[0, -1] = next_week_pred[0]\n",
        "    next_week_sales_pred = current_sales + next_week_pred[0]\n",
        "\n",
        "    # Update current_sales for the next iteration\n",
        "    current_sales = next_week_sales_pred\n",
        "        # Update current_sales for the next iteration\n",
        "\n",
        "    # Append the predicted value to the result list\n",
        "    predictions.append(next_week_sales_pred)\n",
        "\n",
        "# Create a DataFrame to store the predictions\n",
        "prediction_dates = pd.date_range(start='2020-09-10', periods=5, freq='W')\n",
        "prediction_df = pd.DataFrame({'date': prediction_dates, 'sales_diff_prediction': predictions})\n",
        "\n",
        "# Display the predictions\n",
        "print(prediction_df.tail())\n"
      ],
      "metadata": {
        "colab": {
          "base_uri": "https://localhost:8080/"
        },
        "id": "IVGGLFZwZmKR",
        "outputId": "801bc398-4a9b-41e4-d5a9-b61353ad7142"
      },
      "execution_count": 6,
      "outputs": [
        {
          "output_type": "stream",
          "name": "stdout",
          "text": [
            "        date  sales_diff_prediction\n",
            "0 2020-09-13                 7130.0\n",
            "1 2020-09-20                 6012.0\n",
            "2 2020-09-27                 7419.0\n",
            "3 2020-10-04                 8826.0\n",
            "4 2020-10-11                 7979.0\n"
          ]
        },
        {
          "output_type": "stream",
          "name": "stderr",
          "text": [
            "/usr/local/lib/python3.10/dist-packages/sklearn/base.py:439: UserWarning: X does not have valid feature names, but DecisionTreeRegressor was fitted with feature names\n",
            "  warnings.warn(\n",
            "/usr/local/lib/python3.10/dist-packages/sklearn/base.py:439: UserWarning: X does not have valid feature names, but DecisionTreeRegressor was fitted with feature names\n",
            "  warnings.warn(\n",
            "/usr/local/lib/python3.10/dist-packages/sklearn/base.py:439: UserWarning: X does not have valid feature names, but DecisionTreeRegressor was fitted with feature names\n",
            "  warnings.warn(\n",
            "/usr/local/lib/python3.10/dist-packages/sklearn/base.py:439: UserWarning: X does not have valid feature names, but DecisionTreeRegressor was fitted with feature names\n",
            "  warnings.warn(\n",
            "/usr/local/lib/python3.10/dist-packages/sklearn/base.py:439: UserWarning: X does not have valid feature names, but DecisionTreeRegressor was fitted with feature names\n",
            "  warnings.warn(\n"
          ]
        }
      ]
    }
  ]
}